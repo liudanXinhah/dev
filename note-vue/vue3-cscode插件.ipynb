{
 "cells": [
  {
   "attachments": {},
   "cell_type": "markdown",
   "metadata": {},
   "source": [
    "1.插件安装\n",
    " Vue Language Features (Volar) 、TypeScript Vue Plugin (Volar)\n",
    " 1.1 安装后可能存在的问题\n",
    "    如果之前装过veter(vue2相关)需要禁用或者卸载  "
   ]
  }
 ],
 "metadata": {
  "language_info": {
   "name": "python"
  },
  "orig_nbformat": 4
 },
 "nbformat": 4,
 "nbformat_minor": 2
}
